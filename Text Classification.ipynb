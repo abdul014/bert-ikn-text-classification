{
 "cells": [
  {
   "cell_type": "code",
   "execution_count": 23,
   "metadata": {
    "executionInfo": {
     "elapsed": 9,
     "status": "ok",
     "timestamp": 1718269650132,
     "user": {
      "displayName": "ABD. RAHMAN",
      "userId": "10069533183671755323"
     },
     "user_tz": 420
    },
    "id": "Sa_rYOXsbRae"
   },
   "outputs": [],
   "source": [
    "import tensorflow as tf\n",
    "from transformers import BertTokenizer, TFBertForSequenceClassification\n",
    "from transformers import InputExample, InputFeatures\n",
    "import pandas as pd\n",
    "from sklearn.model_selection import train_test_split"
   ]
  },
  {
   "cell_type": "code",
   "execution_count": 24,
   "metadata": {
    "colab": {
     "base_uri": "https://localhost:8080/"
    },
    "executionInfo": {
     "elapsed": 7157,
     "status": "ok",
     "timestamp": 1718269664834,
     "user": {
      "displayName": "ABD. RAHMAN",
      "userId": "10069533183671755323"
     },
     "user_tz": 420
    },
    "id": "0lUQRbV9bZYN",
    "outputId": "4c383d92-50b1-405c-b2c3-bbcaad65f049"
   },
   "outputs": [
    {
     "name": "stderr",
     "output_type": "stream",
     "text": [
      "All model checkpoint layers were used when initializing TFBertForSequenceClassification.\n",
      "\n",
      "Some layers of TFBertForSequenceClassification were not initialized from the model checkpoint at cahya/bert-base-indonesian-1.5G and are newly initialized: ['classifier']\n",
      "You should probably TRAIN this model on a down-stream task to be able to use it for predictions and inference.\n"
     ]
    }
   ],
   "source": [
    "MODEL_NAME = \"cahya/bert-base-indonesian-1.5G\"\n",
    "tokenizer = BertTokenizer.from_pretrained(MODEL_NAME)\n",
    "model = TFBertForSequenceClassification.from_pretrained(MODEL_NAME, num_labels=3)"
   ]
  },
  {
   "cell_type": "code",
   "execution_count": 26,
   "metadata": {
    "colab": {
     "base_uri": "https://localhost:8080/"
    },
    "executionInfo": {
     "elapsed": 7,
     "status": "ok",
     "timestamp": 1718269671799,
     "user": {
      "displayName": "ABD. RAHMAN",
      "userId": "10069533183671755323"
     },
     "user_tz": 420
    },
    "id": "pYiCEVQxbgLo",
    "outputId": "6308d205-aa4a-413d-bee1-195b02b24c8b"
   },
   "outputs": [
    {
     "name": "stdout",
     "output_type": "stream",
     "text": [
      "                                             sentence  label\n",
      "0   Ibu Kota Nusantara yang sering disebut sebagai...      2\n",
      "1   Wacana pemindahan ibu kota sebenarnya bukanlah...      1\n",
      "2   Jakarta sebagai ibu kota telah menghadapi berb...      0\n",
      "3   Kota ini juga mengalami tekanan luar biasa pad...      0\n",
      "4   Ide pemindahan ibu kota ini mendapatkan moment...      1\n",
      "5   Jokowi adalah inisiator utama di balik proyek ...      2\n",
      "6   Pemindahan ibu kota diharapkan dapat mempercep...      2\n",
      "7   Selain itu proyek ini juga bertujuan untuk men...      2\n",
      "8   Proses pembangunan Ibu Kota Nusantara dimulai ...      1\n",
      "9   Berikut adalah beberapa tahap utama dalam pemb...      1\n",
      "10  Tahap Perencanaan (2019-2021) Pada tahap ini p...      1\n",
      "11  Master plan atau rencana induk untuk ibu kota ...      2\n",
      "12  Tahap Pembangunan Awal (2022-2024) Pembangunan...      1\n",
      "13  Pada tahap ini juga dimulai pembangunan gedung...      1\n",
      "14  Tahap Pengembangan (2025-2035) Pada tahap ini ...      1\n",
      "15  Pemerintah juga mulai memindahkan beberapa kan...      1\n",
      "16  Hingga kini beberapa infrastruktur dasar sudah...      0\n",
      "17     Salah satu tantangan terbesar adalah pendanaan      0\n",
      "18  Proyek ini membutuhkan dana yang sangat besar ...      1\n",
      "19  Selain itu ada kekhawatiran mengenai dampak li...      0\n",
      "20  Pembangunan besar-besaran dikhawatirkan akan m...      0\n",
      "21  Pemerintah berkomitmen untuk menerapkan prinsi...      1\n",
      "22  Proyek pemindahan ibu kota ini memiliki potens...      1\n",
      "23  Dengan perpindahan ibu kota diharapkan beban J...      0\n",
      "24  Selain itu proyek ini dapat mendorong pemerata...      2\n",
      "25  Namun proyek ini juga tidak luput dari kritik ...      0\n",
      "26  Selain masalah pendanaan dan dampak lingkungan...      0\n",
      "27  Beberapa pihak mempertanyakan apakah pemindaha...      2\n",
      "28  Ibu Kota Nusantara adalah proyek ambisius yang...      2\n",
      "29  Meskipun menghadapi banyak tantangan termasuk ...      1\n",
      "30  Dengan pemindahan ini diharapkan dapat tercipt...      2\n",
      "31  Proyek ini mencerminkan visi besar Indonesia u...      2\n"
     ]
    }
   ],
   "source": [
    "sentences = [\n",
    "    \"Ibu Kota Nusantara yang sering disebut sebagai IKN (Ibu Kota Negara) adalah proyek monumental Indonesia yang bertujuan untuk memindahkan ibu kota dari Jakarta ke wilayah baru di Kalimantan Timur.\",\n",
    "    \"Wacana pemindahan ibu kota sebenarnya bukanlah gagasan baru. Sejak masa pemerintahan Presiden Soekarno sudah ada ide untuk memindahkan pusat pemerintahan dari Jakarta ke lokasi yang lebih strategis dan bebas dari berbagai masalah perkotaan\",\n",
    "    \"Jakarta sebagai ibu kota telah menghadapi berbagai tantangan serius termasuk overpopulasi polusi udara kemacetan lalu lintas yang kronis dan risiko banjir yang tinggi akibat penurunan permukaan tanah.\",\n",
    "    \"Kota ini juga mengalami tekanan luar biasa pada infrastruktur dan layanan publiknya yang membuat kehidupan sehari-hari menjadi semakin sulit bagi banyak warganya\",\n",
    "    \"Ide pemindahan ibu kota ini mendapatkan momentum nyata ketika Presiden Joko Widodo yang lebih dikenal sebagai Jokowi mengumumkan rencana ini pada Agustus 2019.\",\n",
    "    \"Jokowi adalah inisiator utama di balik proyek ini melihatnya sebagai solusi untuk mengurangi beban Jakarta serta mendorong pembangunan yang lebih merata di seluruh Indonesia\",\n",
    "    \"Pemindahan ibu kota diharapkan dapat mempercepat pertumbuhan ekonomi di luar Jawa khususnya di Kalimantan Timur dan mengurangi ketimpangan pembangunan antar wilayah.\",\n",
    "    \"Selain itu proyek ini juga bertujuan untuk menciptakan kota yang lebih ramah lingkungan dan berkelanjutan\",\n",
    "    \"Proses pembangunan Ibu Kota Nusantara dimulai dengan berbagai tahap perencanaan dan studi kelayakan yang komprehensif\",\n",
    "    \"Berikut adalah beberapa tahap utama dalam pembangunan ibu kota baru ini\",\n",
    "    \"Tahap Perencanaan (2019-2021) Pada tahap ini pemerintah melakukan studi kelayakan yang melibatkan berbagai pihak termasuk ahli tata kota lingkungan dan masyarakat lokal\",\n",
    "    \"Master plan atau rencana induk untuk ibu kota baru ini dirancang dengan konsep smart city dan green city yang mengedepankan keberlanjutan dan teknologi canggih\",\n",
    "    \"Tahap Pembangunan Awal (2022-2024) Pembangunan infrastruktur dasar seperti jalan raya sistem drainase dan fasilitas dasar lainnya mulai dilaksanakan\",\n",
    "    \"Pada tahap ini juga dimulai pembangunan gedung-gedung pemerintahan utama seperti istana presiden gedung parlemen dan kantor-kantor kementerian\",\n",
    "    \"Tahap Pengembangan (2025-2035) Pada tahap ini fokus pembangunan bergeser ke fasilitas publik seperti perumahan sekolah rumah sakit dan pusat bisnis\",\n",
    "    \"Pemerintah juga mulai memindahkan beberapa kantor pemerintahan dari Jakarta ke ibu kota baru\",\n",
    "    \"Hingga kini beberapa infrastruktur dasar sudah mulai dibangun meskipun proyek ini menghadapi banyak tantangan\",\n",
    "    \"Salah satu tantangan terbesar adalah pendanaan\",\n",
    "    \"Proyek ini membutuhkan dana yang sangat besar dan pemerintah harus mencari sumber pendanaan baik dari APBN maupun investasi swasta\",\n",
    "    \"Selain itu ada kekhawatiran mengenai dampak lingkungan. Kalimantan Timur adalah rumah bagi banyak spesies endemik dan hutan tropis\",\n",
    "    \"Pembangunan besar-besaran dikhawatirkan akan merusak ekosistem yang ada\",\n",
    "    \"Pemerintah berkomitmen untuk menerapkan prinsip pembangunan berkelanjutan dan berupaya meminimalkan dampak negatif terhadap lingkungan\",\n",
    "    \"Proyek pemindahan ibu kota ini memiliki potensi dampak positif yang signifikan\",\n",
    "    \"Dengan perpindahan ibu kota diharapkan beban Jakarta yang sudah terlalu padat dapat berkurang\",\n",
    "    \"Selain itu proyek ini dapat mendorong pemerataan pembangunan ekonomi dan infrastruktur di wilayah Indonesia bagian timur khususnya Kalimantan\",\n",
    "    \"Namun proyek ini juga tidak luput dari kritik dan tantangan\",\n",
    "    \"Selain masalah pendanaan dan dampak lingkungan ada juga tantangan sosial seperti relokasi penduduk dan dampak pada komunitas lokal\",\n",
    "    \"Beberapa pihak mempertanyakan apakah pemindahan ibu kota adalah solusi terbaik untuk masalah yang dihadapi Jakarta atau apakah dana yang besar ini lebih baik digunakan untuk memperbaiki infrastruktur yang ada\",\n",
    "    \"Ibu Kota Nusantara adalah proyek ambisius yang bertujuan untuk menciptakan pusat pemerintahan baru yang lebih teratur berkelanjutan dan merata secara geografis\",\n",
    "    \"Meskipun menghadapi banyak tantangan termasuk pendanaan dan dampak lingkungan potensi manfaat jangka panjangnya bagi Indonesia sangat besar\",\n",
    "    \"Dengan pemindahan ini diharapkan dapat tercipta distribusi pembangunan yang lebih adil dan peningkatan kualitas hidup bagi masyarakat Indonesia\",\n",
    "    \"Proyek ini mencerminkan visi besar Indonesia untuk masa depan yang lebih baik di mana pusat pemerintahan dapat berfungsi lebih efisien dan merata di seluruh wilayah nusantara\"\n",
    "]\n",
    "\n",
    "positif_words = [\n",
    "    'monumental', 'bertujuan', 'strategis', 'solusi', 'mendorong', 'merata',\n",
    "    'ramah lingkungan', 'berkelanjutan', 'teknologi canggih', 'mempercepat',\n",
    "    'smart city', 'green city', 'visi besar', 'peningkatan kualitas hidup',\n",
    "    'manfaat', 'memperbaiki', 'optimis', 'kemajuan', 'mengurangi beban',\n",
    "    'pertumbuhan ekonomi'\n",
    "]\n",
    "\n",
    "negatif_words = [\n",
    "    'tantangan', 'overpopulasi', 'polusi', 'kemacetan', 'risiko banjir',\n",
    "    'penurunan permukaan tanah', 'tekanan', 'kekhawatiran', 'merusak',\n",
    "    'masalah', 'kritik', 'relokasi', 'dampak negatif', 'risiko', 'hambatan',\n",
    "    'ketimpangan', 'beban', 'ancaman'\n",
    "]\n",
    "\n",
    "def label_sentence(sentence):\n",
    "    positif_count = sum(word in sentence.lower() for word in positif_words)\n",
    "    negatif_count = sum(word in sentence.lower() for word in negatif_words)\n",
    "\n",
    "    if positif_count > negatif_count:\n",
    "        return 2\n",
    "    elif negatif_count > positif_count:\n",
    "        return 0\n",
    "    else:\n",
    "        return 1\n",
    "\n",
    "data = {\n",
    "    'sentence': sentences,\n",
    "    'label': [label_sentence(sentence) for sentence in sentences]\n",
    "}\n",
    "\n",
    "df = pd.DataFrame(data)\n",
    "print(df)"
   ]
  },
  {
   "cell_type": "code",
   "execution_count": 27,
   "metadata": {
    "executionInfo": {
     "elapsed": 479,
     "status": "ok",
     "timestamp": 1718269677660,
     "user": {
      "displayName": "ABD. RAHMAN",
      "userId": "10069533183671755323"
     },
     "user_tz": 420
    },
    "id": "b1hunK8fbrkw"
   },
   "outputs": [],
   "source": [
    "def convert_data_to_examples(train, test, DATA_COLUMN, LABEL_COLUMN):\n",
    "    train_InputExamples = train.apply(lambda x: InputExample(guid=None,\n",
    "                                                             text_a=x[DATA_COLUMN],\n",
    "                                                             text_b=None,\n",
    "                                                             label=x[LABEL_COLUMN]), axis=1)\n",
    "\n",
    "    test_InputExamples = test.apply(lambda x: InputExample(guid=None,\n",
    "                                                           text_a=x[DATA_COLUMN],\n",
    "                                                           text_b=None,\n",
    "                                                           label=x[LABEL_COLUMN]), axis=1)\n",
    "    return train_InputExamples, test_InputExamples"
   ]
  },
  {
   "cell_type": "code",
   "execution_count": 28,
   "metadata": {
    "executionInfo": {
     "elapsed": 5,
     "status": "ok",
     "timestamp": 1718269680373,
     "user": {
      "displayName": "ABD. RAHMAN",
      "userId": "10069533183671755323"
     },
     "user_tz": 420
    },
    "id": "5KJUVzbpbwcX"
   },
   "outputs": [],
   "source": [
    "def convert_examples_to_tf_dataset(examples, tokenizer, max_length=128):\n",
    "    features = []\n",
    "    for e in examples:\n",
    "        input_dict = tokenizer.encode_plus(\n",
    "            e.text_a,\n",
    "            add_special_tokens=True,\n",
    "            max_length=max_length,\n",
    "            pad_to_max_length=True,\n",
    "            return_token_type_ids=True,\n",
    "            return_attention_mask=True,\n",
    "            truncation=True\n",
    "        )\n",
    "        input_ids, token_type_ids, attention_mask = input_dict[\"input_ids\"], input_dict[\"token_type_ids\"], input_dict[\"attention_mask\"]\n",
    "\n",
    "        features.append(\n",
    "            InputFeatures(input_ids=input_ids, attention_mask=attention_mask, token_type_ids=token_type_ids, label=e.label)\n",
    "        )\n",
    "\n",
    "    def gen():\n",
    "        for f in features:\n",
    "            yield ({\n",
    "                'input_ids': f.input_ids,\n",
    "                'attention_mask': f.attention_mask,\n",
    "                'token_type_ids': f.token_type_ids\n",
    "            }, f.label)\n",
    "\n",
    "    return tf.data.Dataset.from_generator(gen,\n",
    "                                          ({'input_ids': tf.int32,\n",
    "                                            'attention_mask': tf.int32,\n",
    "                                            'token_type_ids': tf.int32},\n",
    "                                           tf.int64),\n",
    "                                          ({'input_ids': tf.TensorShape([None]),\n",
    "                                            'attention_mask': tf.TensorShape([None]),\n",
    "                                            'token_type_ids': tf.TensorShape([None])},\n",
    "                                           tf.TensorShape([])))"
   ]
  },
  {
   "cell_type": "code",
   "execution_count": 40,
   "metadata": {
    "executionInfo": {
     "elapsed": 450,
     "status": "ok",
     "timestamp": 1718272506990,
     "user": {
      "displayName": "ABD. RAHMAN",
      "userId": "10069533183671755323"
     },
     "user_tz": 420
    },
    "id": "-6P4d9CTbyEP"
   },
   "outputs": [],
   "source": [
    "train, test = train_test_split(df, test_size=0.2)"
   ]
  },
  {
   "cell_type": "code",
   "execution_count": 41,
   "metadata": {
    "executionInfo": {
     "elapsed": 3,
     "status": "ok",
     "timestamp": 1718272509357,
     "user": {
      "displayName": "ABD. RAHMAN",
      "userId": "10069533183671755323"
     },
     "user_tz": 420
    },
    "id": "wj5OeFvYb1ds"
   },
   "outputs": [],
   "source": [
    "train_InputExamples, test_InputExamples = convert_data_to_examples(train, test, 'sentence', 'label')"
   ]
  },
  {
   "cell_type": "code",
   "execution_count": 42,
   "metadata": {
    "colab": {
     "base_uri": "https://localhost:8080/"
    },
    "executionInfo": {
     "elapsed": 7,
     "status": "ok",
     "timestamp": 1718272511585,
     "user": {
      "displayName": "ABD. RAHMAN",
      "userId": "10069533183671755323"
     },
     "user_tz": 420
    },
    "id": "ewgZes9lb4Jk",
    "outputId": "98e18894-b24f-462b-fca1-d499d9f74995"
   },
   "outputs": [
    {
     "data": {
      "text/plain": [
       "28    InputExample(guid=None, text_a='Ibu Kota Nusan...\n",
       "27    InputExample(guid=None, text_a='Beberapa pihak...\n",
       "5     InputExample(guid=None, text_a='Jokowi adalah ...\n",
       "8     InputExample(guid=None, text_a='Proses pembang...\n",
       "30    InputExample(guid=None, text_a='Dengan peminda...\n",
       "14    InputExample(guid=None, text_a='Tahap Pengemba...\n",
       "25    InputExample(guid=None, text_a='Namun proyek i...\n",
       "0     InputExample(guid=None, text_a='Ibu Kota Nusan...\n",
       "31    InputExample(guid=None, text_a='Proyek ini men...\n",
       "21    InputExample(guid=None, text_a='Pemerintah ber...\n",
       "10    InputExample(guid=None, text_a='Tahap Perencan...\n",
       "4     InputExample(guid=None, text_a='Ide pemindahan...\n",
       "24    InputExample(guid=None, text_a='Selain itu pro...\n",
       "23    InputExample(guid=None, text_a='Dengan perpind...\n",
       "18    InputExample(guid=None, text_a='Proyek ini mem...\n",
       "22    InputExample(guid=None, text_a='Proyek peminda...\n",
       "20    InputExample(guid=None, text_a='Pembangunan be...\n",
       "13    InputExample(guid=None, text_a='Pada tahap ini...\n",
       "1     InputExample(guid=None, text_a='Wacana peminda...\n",
       "19    InputExample(guid=None, text_a='Selain itu ada...\n",
       "12    InputExample(guid=None, text_a='Tahap Pembangu...\n",
       "7     InputExample(guid=None, text_a='Selain itu pro...\n",
       "16    InputExample(guid=None, text_a='Hingga kini be...\n",
       "26    InputExample(guid=None, text_a='Selain masalah...\n",
       "3     InputExample(guid=None, text_a='Kota ini juga ...\n",
       "dtype: object"
      ]
     },
     "execution_count": 42,
     "metadata": {},
     "output_type": "execute_result"
    }
   ],
   "source": [
    "train_InputExamples"
   ]
  },
  {
   "cell_type": "code",
   "execution_count": 43,
   "metadata": {
    "colab": {
     "base_uri": "https://localhost:8080/"
    },
    "executionInfo": {
     "elapsed": 3,
     "status": "ok",
     "timestamp": 1718272515516,
     "user": {
      "displayName": "ABD. RAHMAN",
      "userId": "10069533183671755323"
     },
     "user_tz": 420
    },
    "id": "EM0rXDI4b8bi",
    "outputId": "d99b8677-da6b-42dd-e005-3ef9a33493ab"
   },
   "outputs": [
    {
     "data": {
      "text/plain": [
       "11    InputExample(guid=None, text_a='Master plan at...\n",
       "9     InputExample(guid=None, text_a='Berikut adalah...\n",
       "2     InputExample(guid=None, text_a='Jakarta sebaga...\n",
       "6     InputExample(guid=None, text_a='Pemindahan ibu...\n",
       "29    InputExample(guid=None, text_a='Meskipun mengh...\n",
       "17    InputExample(guid=None, text_a='Salah satu tan...\n",
       "15    InputExample(guid=None, text_a='Pemerintah jug...\n",
       "dtype: object"
      ]
     },
     "execution_count": 43,
     "metadata": {},
     "output_type": "execute_result"
    }
   ],
   "source": [
    "test_InputExamples"
   ]
  },
  {
   "cell_type": "code",
   "execution_count": 44,
   "metadata": {
    "executionInfo": {
     "elapsed": 3,
     "status": "ok",
     "timestamp": 1718272518723,
     "user": {
      "displayName": "ABD. RAHMAN",
      "userId": "10069533183671755323"
     },
     "user_tz": 420
    },
    "id": "2f5yT-5gb9WJ"
   },
   "outputs": [],
   "source": [
    "train_data = convert_examples_to_tf_dataset(list(train_InputExamples), tokenizer)\n",
    "train_data = train_data.shuffle(100).batch(16).repeat(2)"
   ]
  },
  {
   "cell_type": "code",
   "execution_count": 45,
   "metadata": {
    "colab": {
     "base_uri": "https://localhost:8080/"
    },
    "executionInfo": {
     "elapsed": 429,
     "status": "ok",
     "timestamp": 1718272522984,
     "user": {
      "displayName": "ABD. RAHMAN",
      "userId": "10069533183671755323"
     },
     "user_tz": 420
    },
    "id": "hbEEGH3Sb_56",
    "outputId": "d4879c42-6b2b-46c1-9484-176f6c8d1150"
   },
   "outputs": [
    {
     "data": {
      "text/plain": [
       "<_RepeatDataset element_spec=({'input_ids': TensorSpec(shape=(None, None), dtype=tf.int32, name=None), 'attention_mask': TensorSpec(shape=(None, None), dtype=tf.int32, name=None), 'token_type_ids': TensorSpec(shape=(None, None), dtype=tf.int32, name=None)}, TensorSpec(shape=(None,), dtype=tf.int64, name=None))>"
      ]
     },
     "execution_count": 45,
     "metadata": {},
     "output_type": "execute_result"
    }
   ],
   "source": [
    "train_data"
   ]
  },
  {
   "cell_type": "code",
   "execution_count": 46,
   "metadata": {
    "executionInfo": {
     "elapsed": 630,
     "status": "ok",
     "timestamp": 1718272525589,
     "user": {
      "displayName": "ABD. RAHMAN",
      "userId": "10069533183671755323"
     },
     "user_tz": 420
    },
    "id": "5H80ADHCcCfe"
   },
   "outputs": [],
   "source": [
    "test_data = convert_examples_to_tf_dataset(list(test_InputExamples), tokenizer)\n",
    "test_data = test_data.batch(16)"
   ]
  },
  {
   "cell_type": "code",
   "execution_count": 47,
   "metadata": {
    "colab": {
     "base_uri": "https://localhost:8080/"
    },
    "executionInfo": {
     "elapsed": 464,
     "status": "ok",
     "timestamp": 1718272529129,
     "user": {
      "displayName": "ABD. RAHMAN",
      "userId": "10069533183671755323"
     },
     "user_tz": 420
    },
    "id": "wEQvg0yXcFOJ",
    "outputId": "60151188-1f27-4042-9892-e362c82b8da2"
   },
   "outputs": [
    {
     "data": {
      "text/plain": [
       "<_BatchDataset element_spec=({'input_ids': TensorSpec(shape=(None, None), dtype=tf.int32, name=None), 'attention_mask': TensorSpec(shape=(None, None), dtype=tf.int32, name=None), 'token_type_ids': TensorSpec(shape=(None, None), dtype=tf.int32, name=None)}, TensorSpec(shape=(None,), dtype=tf.int64, name=None))>"
      ]
     },
     "execution_count": 47,
     "metadata": {},
     "output_type": "execute_result"
    }
   ],
   "source": [
    "test_data"
   ]
  },
  {
   "cell_type": "code",
   "execution_count": 48,
   "metadata": {
    "executionInfo": {
     "elapsed": 426,
     "status": "ok",
     "timestamp": 1718272532300,
     "user": {
      "displayName": "ABD. RAHMAN",
      "userId": "10069533183671755323"
     },
     "user_tz": 420
    },
    "id": "4XnMq50NcJmu"
   },
   "outputs": [],
   "source": [
    "optimizer = tf.keras.optimizers.Adam(learning_rate=2e-7, epsilon=1e-08)\n",
    "loss = tf.keras.losses.SparseCategoricalCrossentropy(from_logits=True)\n",
    "metric = tf.keras.metrics.SparseCategoricalAccuracy('accuracy')"
   ]
  },
  {
   "cell_type": "code",
   "execution_count": 49,
   "metadata": {
    "executionInfo": {
     "elapsed": 474,
     "status": "ok",
     "timestamp": 1718272534939,
     "user": {
      "displayName": "ABD. RAHMAN",
      "userId": "10069533183671755323"
     },
     "user_tz": 420
    },
    "id": "AdVJylomcK_8"
   },
   "outputs": [],
   "source": [
    "model.compile(optimizer=optimizer, loss=loss, metrics=[metric])"
   ]
  },
  {
   "cell_type": "code",
   "execution_count": 50,
   "metadata": {
    "colab": {
     "base_uri": "https://localhost:8080/"
    },
    "executionInfo": {
     "elapsed": 1116283,
     "status": "ok",
     "timestamp": 1718273653676,
     "user": {
      "displayName": "ABD. RAHMAN",
      "userId": "10069533183671755323"
     },
     "user_tz": 420
    },
    "id": "Y02AoScCCFdz",
    "outputId": "0964be74-143e-4895-c720-7b7cddb10b83"
   },
   "outputs": [
    {
     "name": "stdout",
     "output_type": "stream",
     "text": [
      "Epoch 1/10\n",
      "4/4 [==============================] - 171s 26s/step - loss: 0.2111 - accuracy: 0.9200 - val_loss: 0.6917 - val_accuracy: 0.8571\n",
      "Epoch 2/10\n",
      "4/4 [==============================] - 86s 20s/step - loss: 0.2595 - accuracy: 0.9200 - val_loss: 0.6881 - val_accuracy: 0.8571\n",
      "Epoch 3/10\n",
      "4/4 [==============================] - 87s 20s/step - loss: 0.2162 - accuracy: 0.9200 - val_loss: 0.6842 - val_accuracy: 0.8571\n",
      "Epoch 4/10\n",
      "4/4 [==============================] - 86s 20s/step - loss: 0.2266 - accuracy: 0.9200 - val_loss: 0.6801 - val_accuracy: 0.8571\n",
      "Epoch 5/10\n",
      "4/4 [==============================] - 85s 20s/step - loss: 0.2171 - accuracy: 0.9200 - val_loss: 0.6759 - val_accuracy: 0.8571\n",
      "Epoch 6/10\n",
      "4/4 [==============================] - 87s 21s/step - loss: 0.1762 - accuracy: 0.9200 - val_loss: 0.6719 - val_accuracy: 0.8571\n",
      "Epoch 7/10\n",
      "4/4 [==============================] - 87s 20s/step - loss: 0.1680 - accuracy: 0.9200 - val_loss: 0.6681 - val_accuracy: 0.8571\n",
      "Epoch 8/10\n",
      "4/4 [==============================] - 88s 20s/step - loss: 0.1847 - accuracy: 0.9200 - val_loss: 0.6643 - val_accuracy: 0.8571\n",
      "Epoch 9/10\n",
      "4/4 [==============================] - 87s 20s/step - loss: 0.1558 - accuracy: 0.9400 - val_loss: 0.6608 - val_accuracy: 0.8571\n",
      "Epoch 10/10\n",
      "4/4 [==============================] - 87s 20s/step - loss: 0.1308 - accuracy: 0.9400 - val_loss: 0.6575 - val_accuracy: 0.8571\n"
     ]
    }
   ],
   "source": [
    "history = model.fit(train_data, epochs=10, validation_data=test_data)"
   ]
  },
  {
   "cell_type": "code",
   "execution_count": 55,
   "metadata": {
    "colab": {
     "base_uri": "https://localhost:8080/"
    },
    "executionInfo": {
     "elapsed": 58382,
     "status": "ok",
     "timestamp": 1718280091079,
     "user": {
      "displayName": "ABD. RAHMAN",
      "userId": "10069533183671755323"
     },
     "user_tz": 420
    },
    "id": "wUC1S0703svi",
    "outputId": "b6959188-d3fa-4aad-da2b-562a8b1cf3f2"
   },
   "outputs": [
    {
     "name": "stdout",
     "output_type": "stream",
     "text": [
      "The overall sentiment of the text is: Negative\n",
      "Sentiment percentages: {0: 34.375, 1: 34.375, 2: 31.25}\n"
     ]
    }
   ],
   "source": [
    "def predict_sentence(sentence, tokenizer, model):\n",
    "    input_dict = tokenizer.encode_plus(\n",
    "        sentence,\n",
    "        add_special_tokens=True,\n",
    "        max_length=128,\n",
    "        pad_to_max_length=True,\n",
    "        return_token_type_ids=True,\n",
    "        return_attention_mask=True,\n",
    "        truncation=True\n",
    "    )\n",
    "    input_ids = tf.constant(input_dict['input_ids'])[None, :]\n",
    "    token_type_ids = tf.constant(input_dict['token_type_ids'])[None, :]\n",
    "    attention_mask = tf.constant(input_dict['attention_mask'])[None, :]\n",
    "\n",
    "    outputs = model(input_ids, token_type_ids=token_type_ids, attention_mask=attention_mask)\n",
    "    logits = outputs[0]\n",
    "    predicted_label = tf.argmax(logits, axis=1).numpy()[0]\n",
    "    return predicted_label\n",
    "\n",
    "def overall_sentiment(sentences, tokenizer, model):\n",
    "    sentiment_counts = {0: 0, 1: 0, 2: 0}\n",
    "    for sentence in sentences:\n",
    "        sentiment = predict_sentence(sentence, tokenizer, model)\n",
    "        sentiment_counts[sentiment] += 1\n",
    "\n",
    "    total = sum(sentiment_counts.values())\n",
    "    percentages = {key: (value / total) * 100 for key, value in sentiment_counts.items()}\n",
    "\n",
    "    overall_sentiment = max(sentiment_counts, key=sentiment_counts.get)\n",
    "    return overall_sentiment, percentages\n",
    "\n",
    "overall_label, sentiment_percentages = overall_sentiment(sentences, tokenizer, model)\n",
    "label_map = {0: 'Negative', 1: 'Neutral', 2: 'Positive'}\n",
    "print(f\"The overall sentiment of the text is: {label_map[overall_label]}\")\n",
    "print(f\"Sentiment percentages: {sentiment_percentages}\")"
   ]
  },
  {
   "cell_type": "code",
   "execution_count": 56,
   "metadata": {
    "colab": {
     "base_uri": "https://localhost:8080/"
    },
    "executionInfo": {
     "elapsed": 400,
     "status": "ok",
     "timestamp": 1718280160919,
     "user": {
      "displayName": "ABD. RAHMAN",
      "userId": "10069533183671755323"
     },
     "user_tz": 420
    },
    "id": "ZDkGpi-v4gty",
    "outputId": "1f5a3fab-d1ec-4008-a789-2c144d0b2b7b"
   },
   "outputs": [
    {
     "name": "stdout",
     "output_type": "stream",
     "text": [
      "0\n"
     ]
    }
   ],
   "source": [
    "print(overall_label)"
   ]
  },
  {
   "cell_type": "code",
   "execution_count": 57,
   "metadata": {
    "colab": {
     "base_uri": "https://localhost:8080/"
    },
    "executionInfo": {
     "elapsed": 3472,
     "status": "ok",
     "timestamp": 1718280166251,
     "user": {
      "displayName": "ABD. RAHMAN",
      "userId": "10069533183671755323"
     },
     "user_tz": 420
    },
    "id": "HpXPp_fyAMez",
    "outputId": "a0e59773-9759-46ef-b6af-2b4b041e99f6"
   },
   "outputs": [
    {
     "name": "stdout",
     "output_type": "stream",
     "text": [
      "1/1 [==============================] - 3s 3s/step - loss: 0.6575 - accuracy: 0.8571\n",
      "Test Loss: 0.6574738621711731\n",
      "Test Accuracy: 85.71%\n"
     ]
    }
   ],
   "source": [
    "results = model.evaluate(test_data)\n",
    "print(f\"Test Loss: {results[0]}\")\n",
    "print(f\"Test Accuracy: {results[1] * 100:.2f}%\")\n"
   ]
  },
  {
   "cell_type": "code",
   "execution_count": 58,
   "metadata": {
    "colab": {
     "base_uri": "https://localhost:8080/",
     "height": 507
    },
    "executionInfo": {
     "elapsed": 2837,
     "status": "ok",
     "timestamp": 1718280170979,
     "user": {
      "displayName": "ABD. RAHMAN",
      "userId": "10069533183671755323"
     },
     "user_tz": 420
    },
    "id": "iq8-MiXJBeXq",
    "outputId": "03b239a2-dad9-4267-e20c-0c8cdfc46e95"
   },
   "outputs": [
    {
     "data": {
      "image/png": "[encoded data removed]",
      "text/plain": [
       "<Figure size 1200x500 with 2 Axes>"
      ]
     },
     "metadata": {},
     "output_type": "display_data"
    }
   ],
   "source": [
    "import matplotlib.pyplot as plt\n",
    "\n",
    "plt.figure(figsize=(12, 5))\n",
    "\n",
    "plt.subplot(1, 2, 1)\n",
    "plt.plot(history.history['accuracy'], label='Training Accuracy')\n",
    "plt.plot(history.history['val_accuracy'], label='Validation Accuracy')\n",
    "plt.xlabel('Epoch')\n",
    "plt.ylabel('Accuracy')\n",
    "plt.title('Model Accuracy')\n",
    "plt.legend()\n",
    "\n",
    "plt.subplot(1, 2, 2)\n",
    "plt.plot(history.history['loss'], label='Training Loss')\n",
    "plt.plot(history.history['val_loss'], label='Validation Loss')\n",
    "plt.xlabel('Epoch')\n",
    "plt.ylabel('Loss')\n",
    "plt.title('Model Loss')\n",
    "plt.legend()\n",
    "\n",
    "plt.tight_layout()\n",
    "plt.show()"
   ]
  }
 ],
 "metadata": {
  "colab": {
   "authorship_tag": "ABX9TyNGKKPfOF6w0B8X/+LzRpsO",
   "provenance": []
  },
  "kernelspec": {
   "display_name": "Python 3 (ipykernel)",
   "language": "python",
   "name": "python3"
  },
  "language_info": {
   "codemirror_mode": {
    "name": "ipython",
    "version": 3
   },
   "file_extension": ".py",
   "mimetype": "text/x-python",
   "name": "python",
   "nbconvert_exporter": "python",
   "pygments_lexer": "ipython3",
   "version": "3.8.8"
  }
 },
 "nbformat": 4,
 "nbformat_minor": 4
}
